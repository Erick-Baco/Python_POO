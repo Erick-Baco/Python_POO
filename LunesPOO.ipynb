{
  "nbformat": 4,
  "nbformat_minor": 0,
  "metadata": {
    "colab": {
      "provenance": [],
      "authorship_tag": "ABX9TyM8iRRDKdt8urZRIipDAGqG",
      "include_colab_link": true
    },
    "kernelspec": {
      "name": "python3",
      "display_name": "Python 3"
    },
    "language_info": {
      "name": "python"
    }
  },
  "cells": [
    {
      "cell_type": "markdown",
      "metadata": {
        "id": "view-in-github",
        "colab_type": "text"
      },
      "source": [
        "<a href=\"https://colab.research.google.com/github/Erick-Baco/Python_POO/blob/main/LunesPOO.ipynb\" target=\"_parent\"><img src=\"https://colab.research.google.com/assets/colab-badge.svg\" alt=\"Open In Colab\"/></a>"
      ]
    },
    {
      "cell_type": "code",
      "execution_count": null,
      "metadata": {
        "colab": {
          "base_uri": "https://localhost:8080/"
        },
        "id": "7FGxQ8zO4KGt",
        "outputId": "73e5e776-7c7c-4547-d6c8-521a99b7e88e"
      },
      "outputs": [
        {
          "output_type": "stream",
          "name": "stdout",
          "text": [
            "Hola mundo\n"
          ]
        }
      ],
      "source": [
        "#Esto es un comentario\n",
        "print(\"Hola mundo\") #Esro imprime \"Hola Mundo\""
      ]
    },
    {
      "cell_type": "code",
      "source": [
        "!ls -a"
      ],
      "metadata": {
        "colab": {
          "base_uri": "https://localhost:8080/"
        },
        "id": "wts-Ri1S6b5N",
        "outputId": "e278208e-f25c-4a84-94c9-c589f2036cf2"
      },
      "execution_count": null,
      "outputs": [
        {
          "output_type": "stream",
          "name": "stdout",
          "text": [
            ".  ..  .config\tsample_data\n"
          ]
        }
      ]
    },
    {
      "cell_type": "code",
      "source": [
        "print(\"Hola\", \"Mundo\") #La coma separa con un espacio\n",
        "\n",
        "print(\"Hola\" + \"Mundo\") # el + une los dos\n",
        "\n",
        "print(\"Hola\", \"Mundo\", sep=\"-\")  # Imprime: Hola-Mundo\n",
        "                                # el sep indica que poner en lugar del\n",
        "                                #  espacio dado por la coma\n",
        "\n",
        "print(\"Hola\", end=\"\")\n",
        "print(\"Mundo\")  # Imprime: HolaMundo"
      ],
      "metadata": {
        "colab": {
          "base_uri": "https://localhost:8080/"
        },
        "id": "4kMTTGMn7DN8",
        "outputId": "6ac47b4d-ba70-41f1-e904-cb51e507e3e0"
      },
      "execution_count": null,
      "outputs": [
        {
          "output_type": "stream",
          "name": "stdout",
          "text": [
            "Hola Mundo\n",
            "HolaMundo\n",
            "Hola-Mundo\n",
            "HolaMundo\n"
          ]
        }
      ]
    },
    {
      "cell_type": "code",
      "source": [
        "nombre = \"José\"\n",
        "carrera = \"ICO, la mejor\"\n",
        "print(\"Mi nombre es {1} y estudio {0} en la FES Aragón\".format(nombre, carrera))\n",
        "print(f\"Mi nombre es {nombre} y estudio en {carrera*2} dentro de la FES\")"
      ],
      "metadata": {
        "colab": {
          "base_uri": "https://localhost:8080/"
        },
        "id": "XEzJ-Z9B7qbA",
        "outputId": "a7f18a7d-9cfa-4e0d-c5f7-4b3a5b162977"
      },
      "execution_count": null,
      "outputs": [
        {
          "output_type": "stream",
          "name": "stdout",
          "text": [
            "Mi nombre es ICO, la mejor y estudio José en la FES Aragón\n",
            "Mi nombre es José y estudio en ICO, la mejorICO, la mejor dentro de la FES\n"
          ]
        }
      ]
    },
    {
      "cell_type": "code",
      "source": [
        "# Operadores aritméticos\n",
        "suma = 5 + 3    # 8\n",
        "resta = 5 - 3   # 2\n",
        "producto = 5 * 3  # 15\n",
        "division = 5 / 3  # 1.66667\n",
        "division2 = 5 // 3 # 1\n",
        "modulo = 5 % 3   # 2\n",
        "potencia = 5 ** 3  # 125"
      ],
      "metadata": {
        "id": "XpAhIj4W_NcP"
      },
      "execution_count": null,
      "outputs": []
    },
    {
      "cell_type": "code",
      "source": [
        "division2"
      ],
      "metadata": {
        "colab": {
          "base_uri": "https://localhost:8080/"
        },
        "id": "JgQV8C8_AMJt",
        "outputId": "27d626ff-c852-453d-8806-50d9dfb47c68"
      },
      "execution_count": null,
      "outputs": [
        {
          "output_type": "execute_result",
          "data": {
            "text/plain": [
              "1"
            ]
          },
          "metadata": {},
          "execution_count": 17
        }
      ]
    },
    {
      "cell_type": "code",
      "source": [
        "# Operadores de comparación\n",
        "igual = 5 == 3  # False\n",
        "diferente = 5 != 3  # True\n",
        "mayor_que = 5 > 3  # True\n",
        "menor_que = 5 < 3  # False\n",
        "mayor_o_igual_que = 5 >= 3  # True\n",
        "menor_o_igual_que = 5 <= 3  # False"
      ],
      "metadata": {
        "id": "c7uiK2qk_af1"
      },
      "execution_count": null,
      "outputs": []
    },
    {
      "cell_type": "code",
      "source": [
        "igual"
      ],
      "metadata": {
        "colab": {
          "base_uri": "https://localhost:8080/"
        },
        "id": "tvvUqvywAOrd",
        "outputId": "0e1b601a-c563-471a-e621-0036bee2ae6d"
      },
      "execution_count": null,
      "outputs": [
        {
          "output_type": "execute_result",
          "data": {
            "text/plain": [
              "False"
            ]
          },
          "metadata": {},
          "execution_count": 18
        }
      ]
    },
    {
      "cell_type": "code",
      "source": [
        "# Operadores lógicos\n",
        "y = True and False  # False\n",
        "o = True or False  # True\n",
        "no = not True  # False"
      ],
      "metadata": {
        "id": "v9Aaj3PmACtV"
      },
      "execution_count": null,
      "outputs": []
    },
    {
      "cell_type": "code",
      "source": [
        "no"
      ],
      "metadata": {
        "colab": {
          "base_uri": "https://localhost:8080/"
        },
        "id": "yOb41R0TAElJ",
        "outputId": "c513af40-6b84-4ecf-f640-3caeb2cf0528"
      },
      "execution_count": null,
      "outputs": [
        {
          "output_type": "execute_result",
          "data": {
            "text/plain": [
              "False"
            ]
          },
          "metadata": {},
          "execution_count": 16
        }
      ]
    },
    {
      "cell_type": "code",
      "source": [
        "saludo = \"Hola Mundo\"\n",
        "cita = 'Los alumnos \\n de \\tICO \\t\\'dicen\\': \"Hola Mundo\"'\n",
        "parrafo = \"\"\"Esto es un párrafo\n",
        "que abarca varias\n",
        "líneas\"\"\"\n"
      ],
      "metadata": {
        "id": "dU_Y2SD1BA3-"
      },
      "execution_count": null,
      "outputs": []
    },
    {
      "cell_type": "code",
      "source": [
        "print(cita)"
      ],
      "metadata": {
        "colab": {
          "base_uri": "https://localhost:8080/"
        },
        "id": "d69-H1xgBCnG",
        "outputId": "2c5d19e4-9f18-4b8e-fc2b-1e931d32361d"
      },
      "execution_count": null,
      "outputs": [
        {
          "output_type": "stream",
          "name": "stdout",
          "text": [
            "Los alumnos \n",
            " de \tICO \t'dicen': \"Hola Mundo\"\n"
          ]
        }
      ]
    },
    {
      "cell_type": "code",
      "source": [
        "def fn_uno():\n",
        "    print(\"Hola\")\n",
        "a, b, c = 10, \"Hola\", fn_uno\n",
        "print(a)\n",
        "print(b)\n",
        "print(c)\n",
        "\n",
        "c.__call__()"
      ],
      "metadata": {
        "colab": {
          "base_uri": "https://localhost:8080/"
        },
        "id": "_UMXYikoB3Dj",
        "outputId": "86c8b9ef-b93f-44fa-ae58-1f2fa6bd519a"
      },
      "execution_count": null,
      "outputs": [
        {
          "output_type": "stream",
          "name": "stdout",
          "text": [
            "10\n",
            "Hola\n",
            "<function fn_uno at 0x7fb768361fc0>\n",
            "Hola\n"
          ]
        }
      ]
    },
    {
      "cell_type": "code",
      "source": [
        "# entrada por teclado\n",
        "nombre = input(\"Por favor, introduce tu nombre: \")\n",
        "print(f\"Hola {nombre}!\")"
      ],
      "metadata": {
        "colab": {
          "base_uri": "https://localhost:8080/"
        },
        "id": "JgahsUwCDPVM",
        "outputId": "7852063f-aa7d-417d-f9aa-25f5ad020a22"
      },
      "execution_count": null,
      "outputs": [
        {
          "output_type": "stream",
          "name": "stdout",
          "text": [
            "Por favor, introduce tu nombre: Erick\n",
            "Hola Erick!\n"
          ]
        }
      ]
    },
    {
      "cell_type": "code",
      "source": [
        "numero = int(\"3\")\n",
        "print(numero)\n",
        "edad = int(input(\"Introduce tu edad:\"))\n",
        "print(f\"{nombre} tiene {edad} años\")"
      ],
      "metadata": {
        "colab": {
          "base_uri": "https://localhost:8080/"
        },
        "id": "yLXHFp4_DbnV",
        "outputId": "381b5c15-acb0-465c-ffce-0cbc6831c13a"
      },
      "execution_count": null,
      "outputs": [
        {
          "output_type": "stream",
          "name": "stdout",
          "text": [
            "3\n",
            "Introduce tu edad:18\n",
            "Erick tiene 18 años\n"
          ]
        }
      ]
    },
    {
      "cell_type": "code",
      "source": [
        "mensaje = \"Hola Mundo\"  # String\n",
        "edad = 20               # Integer\n",
        "pi = 3.14159            # Float\n",
        "es_mayor = True         # Boolean\n",
        "imaginario = 3 + 4j     # Imaginario"
      ],
      "metadata": {
        "id": "XQorG4A0EA35"
      },
      "execution_count": null,
      "outputs": []
    },
    {
      "cell_type": "code",
      "source": [
        "imaginario"
      ],
      "metadata": {
        "colab": {
          "base_uri": "https://localhost:8080/"
        },
        "id": "QAGsihHMEWiO",
        "outputId": "d1e27c46-bbd8-42d1-c1e1-e1412a69583b"
      },
      "execution_count": null,
      "outputs": [
        {
          "output_type": "execute_result",
          "data": {
            "text/plain": [
              "(3+4j)"
            ]
          },
          "metadata": {},
          "execution_count": 40
        }
      ]
    },
    {
      "cell_type": "code",
      "source": [
        "frutas = ['limon','aguacate','fresa']\n",
        "print(frutas[2])\n",
        "print(frutas[-1])"
      ],
      "metadata": {
        "colab": {
          "base_uri": "https://localhost:8080/"
        },
        "id": "QysMuPwYExNL",
        "outputId": "e00e5db7-2a48-4d46-d8d4-d2fc1786bcd0"
      },
      "execution_count": null,
      "outputs": [
        {
          "output_type": "stream",
          "name": "stdout",
          "text": [
            "fresa\n",
            "fresa\n"
          ]
        }
      ]
    },
    {
      "cell_type": "code",
      "source": [
        "cosas = ['limon',10,True,[1,2,3,4],3.1416]\n",
        "print(cosas[3][0])"
      ],
      "metadata": {
        "colab": {
          "base_uri": "https://localhost:8080/"
        },
        "id": "PtuE4DSYFm4O",
        "outputId": "3a5707a5-41c6-4d7d-9adb-156bc11f01e6"
      },
      "execution_count": null,
      "outputs": [
        {
          "output_type": "stream",
          "name": "stdout",
          "text": [
            "1\n"
          ]
        }
      ]
    },
    {
      "cell_type": "markdown",
      "source": [
        "#Slicing en pyton\n",
        "\n",
        "[inicio : stop : step ]\n",
        "\n",
        "es la posibilidad de obtener rebanadas a partir de un tipo de de datos lista o tupla,\n",
        "en general de un iterable. Un tipo de String es un iterable.\n",
        "\n",
        "por defecto:\n",
        "\n",
        "inicio = 0\n",
        "\n",
        "stop es igual al tamaño de la variable\n",
        "\n",
        "step = 1"
      ],
      "metadata": {
        "id": "8d1FpmpkG45T"
      }
    },
    {
      "cell_type": "code",
      "source": [
        "ejemplo = [1,2,3,4,5,6,'a','b','c','d']\n",
        "print(ejemplo)"
      ],
      "metadata": {
        "colab": {
          "base_uri": "https://localhost:8080/"
        },
        "id": "58TZpQBEG6A0",
        "outputId": "4fe949a5-163b-45bd-ef58-c067863df80c"
      },
      "execution_count": null,
      "outputs": [
        {
          "output_type": "stream",
          "name": "stdout",
          "text": [
            "[1, 2, 3, 4, 5, 6, 'a', 'b', 'c', 'd']\n"
          ]
        }
      ]
    },
    {
      "cell_type": "code",
      "source": [
        "rebanada = ejemplo[6:9:1]\n",
        "print(rebanada)"
      ],
      "metadata": {
        "colab": {
          "base_uri": "https://localhost:8080/"
        },
        "id": "31rz4ZFJHLK-",
        "outputId": "4e95cea0-4607-4d2d-8fad-91c21342fbde"
      },
      "execution_count": null,
      "outputs": [
        {
          "output_type": "stream",
          "name": "stdout",
          "text": [
            "['a', 'b', 'c']\n"
          ]
        }
      ]
    },
    {
      "cell_type": "code",
      "source": [
        "frutas_dos = ('aguacate','limon','naranja')\n",
        "print(frutas)\n",
        "print(frutas_dos)\n",
        "\n",
        "frutas[1] = 'piña'\n",
        "#frutas_dos[1] = 'piña'\n",
        "\n",
        "print(frutas[1])\n",
        "print(frutas_dos[1])\n",
        "\n",
        "print(frutas_dos[1:2:1])\n",
        "\n",
        "print(frutas_dos[-1])"
      ],
      "metadata": {
        "colab": {
          "base_uri": "https://localhost:8080/"
        },
        "id": "ESSkPl-lIxvC",
        "outputId": "a46b62ac-706c-4e16-9792-428270a66a85"
      },
      "execution_count": null,
      "outputs": [
        {
          "output_type": "stream",
          "name": "stdout",
          "text": [
            "['limon', 'piña', 'fresa']\n",
            "('aguacate', 'limon', 'naranja')\n",
            "piña\n",
            "limon\n",
            "('limon',)\n",
            "naranja\n"
          ]
        }
      ]
    },
    {
      "cell_type": "markdown",
      "source": [
        "#Teoría de diccionarios\n",
        "\n",
        "1. Es un conjunto de pares llave valor\n",
        "2. Agrupados por ':'\n",
        "3. La llave siempre es de tipo string\n",
        "4. El valor puede ser de cualquier tipo\n",
        "1. El selector es de la forma ['llave']\n",
        "1. Es mutable\n",
        "1. se declara entre los caracteres '{y}'\n",
        "1. Los pares están separados por comas ','"
      ],
      "metadata": {
        "id": "RrpCerleKFAE"
      }
    },
    {
      "cell_type": "code",
      "source": [
        "alumno = {'numero_cuenta': 123123, 'carrera' : 'ICO',\n",
        "          'direccion' : {'calle' : 'rancho seco', 'numero': 23}}\n",
        "print(alumno['direccion'])\n",
        "print(alumno['direccion']['calle'])\n",
        "print(alumno['direccion']['calle'][3:6:1])"
      ],
      "metadata": {
        "colab": {
          "base_uri": "https://localhost:8080/"
        },
        "id": "gO2Vx78FKbV4",
        "outputId": "605c5a71-1e35-4ece-a80a-f34601d7de93"
      },
      "execution_count": null,
      "outputs": [
        {
          "output_type": "stream",
          "name": "stdout",
          "text": [
            "{'calle': 'rancho seco', 'numero': 23}\n",
            "rancho seco\n",
            "cho\n"
          ]
        }
      ]
    }
  ]
}